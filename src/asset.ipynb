{
 "cells": [
  {
   "cell_type": "code",
   "execution_count": 1,
   "metadata": {},
   "outputs": [],
   "source": [
    "from tensorflow import keras\n",
    "from PIL import Image\n",
    "import json\n",
    "import os"
   ]
  },
  {
   "cell_type": "code",
   "execution_count": 2,
   "metadata": {},
   "outputs": [],
   "source": [
    "n = 100"
   ]
  },
  {
   "cell_type": "code",
   "execution_count": 3,
   "metadata": {},
   "outputs": [],
   "source": [
    "(x_train, y_train), (x_test, y_test) = keras.datasets.mnist.load_data()"
   ]
  },
  {
   "cell_type": "code",
   "execution_count": 4,
   "metadata": {},
   "outputs": [],
   "source": [
    "hashes = []\n",
    "for i in range(n):\n",
    "    image = Image.fromarray(x_train[i], mode='L')\n",
    "    image.save('tmp.pgm')\n",
    "    with open('tmp.pgm', 'rb') as f:\n",
    "        binary = {\"in\": ''.join(format(byte, '08b') for byte in f.read())}\n",
    "    # split binary into individual bits\n",
    "    binary['in'] = [i for i in binary['in']]\n",
    "    # save binary to json\n",
    "    with open('../assets/mnist_'+str(i)+'.json', 'w') as f:\n",
    "        json.dump(binary, f)\n",
    "\n",
    "# remove tmp.pgm\n",
    "os.remove('tmp.pgm')"
   ]
  },
  {
   "cell_type": "code",
   "execution_count": 5,
   "metadata": {},
   "outputs": [],
   "source": [
    "with open('../assets/labels.json', 'w') as f:\n",
    "    json.dump(y_train[:n].tolist(), f)\n",
    "    f.close()"
   ]
  }
 ],
 "metadata": {
  "kernelspec": {
   "display_name": "keras2circom",
   "language": "python",
   "name": "python3"
  },
  "language_info": {
   "codemirror_mode": {
    "name": "ipython",
    "version": 3
   },
   "file_extension": ".py",
   "mimetype": "text/x-python",
   "name": "python",
   "nbconvert_exporter": "python",
   "pygments_lexer": "ipython3",
   "version": "3.9.13"
  },
  "orig_nbformat": 4
 },
 "nbformat": 4,
 "nbformat_minor": 2
}
