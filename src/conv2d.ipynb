{
 "cells": [
  {
   "cell_type": "code",
   "execution_count": 1,
   "metadata": {},
   "outputs": [
    {
     "name": "stderr",
     "output_type": "stream",
     "text": [
      "2023-06-21 02:32:42.173650: I tensorflow/tsl/cuda/cudart_stub.cc:28] Could not find cuda drivers on your machine, GPU will not be used.\n",
      "2023-06-21 02:32:42.212085: I tensorflow/tsl/cuda/cudart_stub.cc:28] Could not find cuda drivers on your machine, GPU will not be used.\n",
      "2023-06-21 02:32:42.212732: I tensorflow/core/platform/cpu_feature_guard.cc:182] This TensorFlow binary is optimized to use available CPU instructions in performance-critical operations.\n",
      "To enable the following instructions: AVX2 FMA, in other operations, rebuild TensorFlow with the appropriate compiler flags.\n",
      "2023-06-21 02:32:42.777654: W tensorflow/compiler/tf2tensorrt/utils/py_utils.cc:38] TF-TRT Warning: Could not find TensorRT\n"
     ]
    }
   ],
   "source": [
    "from tensorflow.keras.layers import Input, Conv2D\n",
    "from tensorflow.keras import Model\n",
    "import numpy as np"
   ]
  },
  {
   "cell_type": "code",
   "execution_count": 2,
   "metadata": {},
   "outputs": [],
   "source": [
    "size = 32"
   ]
  },
  {
   "cell_type": "code",
   "execution_count": 3,
   "metadata": {},
   "outputs": [
    {
     "name": "stderr",
     "output_type": "stream",
     "text": [
      "2023-06-21 02:32:43.276617: I tensorflow/compiler/xla/stream_executor/cuda/cuda_gpu_executor.cc:996] successful NUMA node read from SysFS had negative value (-1), but there must be at least one NUMA node, so returning NUMA node zero. See more at https://github.com/torvalds/linux/blob/v6.0/Documentation/ABI/testing/sysfs-bus-pci#L344-L355\n",
      "2023-06-21 02:32:43.276956: W tensorflow/core/common_runtime/gpu/gpu_device.cc:1956] Cannot dlopen some GPU libraries. Please make sure the missing libraries mentioned above are installed properly if you would like to use GPU. Follow the guide at https://www.tensorflow.org/install/gpu for how to download and setup the required libraries for your platform.\n",
      "Skipping registering GPU devices...\n"
     ]
    }
   ],
   "source": [
    "inputs = Input(shape=(size,size,3))\n",
    "x = Conv2D(2, 3)(inputs)\n",
    "model = Model(inputs, x)"
   ]
  },
  {
   "cell_type": "code",
   "execution_count": 4,
   "metadata": {},
   "outputs": [
    {
     "name": "stdout",
     "output_type": "stream",
     "text": [
      "Model: \"model\"\n",
      "_________________________________________________________________\n",
      " Layer (type)                Output Shape              Param #   \n",
      "=================================================================\n",
      " input_1 (InputLayer)        [(None, 32, 32, 3)]       0         \n",
      "                                                                 \n",
      " conv2d (Conv2D)             (None, 30, 30, 2)         56        \n",
      "                                                                 \n",
      "=================================================================\n",
      "Total params: 56\n",
      "Trainable params: 56\n",
      "Non-trainable params: 0\n",
      "_________________________________________________________________\n"
     ]
    }
   ],
   "source": [
    "model.summary()"
   ]
  },
  {
   "cell_type": "code",
   "execution_count": 5,
   "metadata": {},
   "outputs": [
    {
     "data": {
      "text/plain": [
       "[<tf.Variable 'conv2d/kernel:0' shape=(3, 3, 3, 2) dtype=float32, numpy=\n",
       " array([[[[ 0.3122536 , -0.35768434],\n",
       "          [-0.00987762, -0.14765742],\n",
       "          [ 0.33355755, -0.24231836]],\n",
       " \n",
       "         [[ 0.22601944, -0.0510852 ],\n",
       "          [ 0.16763812, -0.18366624],\n",
       "          [-0.23919654, -0.18267508]],\n",
       " \n",
       "         [[-0.15984975, -0.18699491],\n",
       "          [-0.17630164, -0.31214353],\n",
       "          [ 0.11839971,  0.08551025]]],\n",
       " \n",
       " \n",
       "        [[[ 0.08705449,  0.25231212],\n",
       "          [ 0.20721722,  0.1117636 ],\n",
       "          [ 0.33332098, -0.15658306]],\n",
       " \n",
       "         [[-0.12726136, -0.08771327],\n",
       "          [ 0.1495679 ,  0.20597088],\n",
       "          [-0.0278579 , -0.07690847]],\n",
       " \n",
       "         [[-0.21101634, -0.18417005],\n",
       "          [-0.25724152, -0.31060773],\n",
       "          [-0.01970431,  0.14478147]]],\n",
       " \n",
       " \n",
       "        [[[-0.33064678, -0.10183489],\n",
       "          [-0.3399427 , -0.18658887],\n",
       "          [ 0.31239426, -0.14342543]],\n",
       " \n",
       "         [[ 0.13050434,  0.17122954],\n",
       "          [-0.24486107,  0.30148482],\n",
       "          [-0.20103425,  0.35347438]],\n",
       " \n",
       "         [[-0.17066811,  0.32229888],\n",
       "          [ 0.2198956 ,  0.32880074],\n",
       "          [ 0.1152845 , -0.3502279 ]]]], dtype=float32)>,\n",
       " <tf.Variable 'conv2d/bias:0' shape=(2,) dtype=float32, numpy=array([0., 0.], dtype=float32)>]"
      ]
     },
     "execution_count": 5,
     "metadata": {},
     "output_type": "execute_result"
    }
   ],
   "source": [
    "model.weights"
   ]
  },
  {
   "cell_type": "code",
   "execution_count": 6,
   "metadata": {},
   "outputs": [
    {
     "data": {
      "text/plain": [
       "array([[[[0.01962207, 0.95882094, 0.35828557],\n",
       "         [0.66550487, 0.62807707, 0.26594954],\n",
       "         [0.29709729, 0.13306449, 0.28034113],\n",
       "         ...,\n",
       "         [0.35003459, 0.77120529, 0.88505744],\n",
       "         [0.01326928, 0.26015559, 0.69003832],\n",
       "         [0.26296812, 0.83550691, 0.32521063]],\n",
       "\n",
       "        [[0.68003668, 0.81460149, 0.89349122],\n",
       "         [0.43823585, 0.58223146, 0.98929292],\n",
       "         [0.03339618, 0.22356739, 0.04286964],\n",
       "         ...,\n",
       "         [0.94447588, 0.87940499, 0.56501838],\n",
       "         [0.32576093, 0.67590778, 0.84532205],\n",
       "         [0.07016307, 0.56203175, 0.2113005 ]],\n",
       "\n",
       "        [[0.38897787, 0.50762213, 0.54969499],\n",
       "         [0.86941137, 0.23886399, 0.9375073 ],\n",
       "         [0.19606372, 0.18509296, 0.64272332],\n",
       "         ...,\n",
       "         [0.790154  , 0.03998056, 0.56565164],\n",
       "         [0.22689347, 0.60002814, 0.28262559],\n",
       "         [0.77978828, 0.98026195, 0.20742963]],\n",
       "\n",
       "        ...,\n",
       "\n",
       "        [[0.73425998, 0.44065066, 0.93817952],\n",
       "         [0.08291957, 0.87496097, 0.33579409],\n",
       "         [0.06340009, 0.45702157, 0.72295031],\n",
       "         ...,\n",
       "         [0.68328092, 0.55813979, 0.04881185],\n",
       "         [0.80848985, 0.33101331, 0.11159771],\n",
       "         [0.19168092, 0.96546964, 0.32345609]],\n",
       "\n",
       "        [[0.05334214, 0.89550818, 0.76861072],\n",
       "         [0.46890836, 0.27805572, 0.04909253],\n",
       "         [0.02787936, 0.40215347, 0.14227465],\n",
       "         ...,\n",
       "         [0.04210662, 0.06298332, 0.91940389],\n",
       "         [0.32655446, 0.97799127, 0.70233211],\n",
       "         [0.68997752, 0.394762  , 0.79982009]],\n",
       "\n",
       "        [[0.34105908, 0.09831691, 0.01211299],\n",
       "         [0.15790515, 0.78119791, 0.61716695],\n",
       "         [0.80573021, 0.89982751, 0.81833879],\n",
       "         ...,\n",
       "         [0.40560284, 0.11986546, 0.94764085],\n",
       "         [0.31337252, 0.95369808, 0.11421354],\n",
       "         [0.78193442, 0.52580337, 0.76562344]]]])"
      ]
     },
     "execution_count": 6,
     "metadata": {},
     "output_type": "execute_result"
    }
   ],
   "source": [
    "X = np.random.rand(1,size,size,3)\n",
    "X"
   ]
  },
  {
   "cell_type": "code",
   "execution_count": 7,
   "metadata": {},
   "outputs": [
    {
     "name": "stdout",
     "output_type": "stream",
     "text": [
      "1/1 [==============================] - 0s 55ms/step\n"
     ]
    },
    {
     "data": {
      "text/plain": [
       "array([[[[ 5.53051412e-01, -2.09688857e-01],\n",
       "         [ 4.66239989e-01, -4.12702918e-01],\n",
       "         [-3.98638010e-01, -3.40451866e-01],\n",
       "         ...,\n",
       "         [-2.32634798e-01, -9.52139020e-01],\n",
       "         [ 2.83016205e-01, -4.17711884e-02],\n",
       "         [ 2.87053406e-01, -1.21785685e-01]],\n",
       "\n",
       "        [[ 3.99587080e-02, -3.53074759e-01],\n",
       "         [ 8.80663753e-01, -9.06149805e-01],\n",
       "         [-3.84150445e-01, -3.93398516e-02],\n",
       "         ...,\n",
       "         [-1.58908695e-01, -6.92625761e-01],\n",
       "         [ 4.28100407e-01, -1.13344562e+00],\n",
       "         [ 1.22749675e-02, -4.07587588e-01]],\n",
       "\n",
       "        [[-1.53791055e-01, -4.32481170e-01],\n",
       "         [ 1.15713811e+00, -8.24619710e-01],\n",
       "         [-2.88120776e-01,  4.78724800e-02],\n",
       "         ...,\n",
       "         [ 6.42201975e-02, -3.62379551e-01],\n",
       "         [ 3.75677764e-01, -5.59972286e-01],\n",
       "         [-1.61908463e-01, -9.79303241e-01]],\n",
       "\n",
       "        ...,\n",
       "\n",
       "        [[ 3.68696421e-01, -8.29068720e-01],\n",
       "         [-1.44384339e-01,  1.28685832e-01],\n",
       "         [ 3.97836033e-04,  4.52010799e-03],\n",
       "         ...,\n",
       "         [-8.16574171e-02, -2.69023687e-01],\n",
       "         [-1.24187589e-01, -8.52639019e-01],\n",
       "         [ 4.59026843e-01, -5.75408041e-01]],\n",
       "\n",
       "        [[ 6.84204698e-01, -5.97629368e-01],\n",
       "         [-2.00142831e-01, -7.21213877e-01],\n",
       "         [-1.65083155e-01, -5.51076412e-01],\n",
       "         ...,\n",
       "         [-7.89442193e-03, -8.17850292e-01],\n",
       "         [ 3.31751592e-02, -8.26214790e-01],\n",
       "         [ 2.94965386e-01, -4.32538241e-01]],\n",
       "\n",
       "        [[ 6.50197983e-01, -2.83054650e-01],\n",
       "         [-5.02390444e-01,  2.11722896e-01],\n",
       "         [ 2.00487413e-02, -4.06898141e-01],\n",
       "         ...,\n",
       "         [ 2.00729758e-01, -4.07716274e-01],\n",
       "         [ 2.52840936e-01, -1.83335394e-01],\n",
       "         [ 3.94546300e-01, -5.73356390e-01]]]], dtype=float32)"
      ]
     },
     "execution_count": 7,
     "metadata": {},
     "output_type": "execute_result"
    }
   ],
   "source": [
    "y = model.predict(X)\n",
    "y"
   ]
  },
  {
   "cell_type": "code",
   "execution_count": 8,
   "metadata": {},
   "outputs": [],
   "source": [
    "in_json = {\n",
    "    \"in\": (X*1000).round().astype(int).flatten().tolist(),\n",
    "    \"weights\": (model.weights[0].numpy()*1000).round().astype(int).flatten().tolist(),\n",
    "    \"bias\": [0,0]\n",
    "}"
   ]
  },
  {
   "cell_type": "code",
   "execution_count": 9,
   "metadata": {},
   "outputs": [],
   "source": [
    "out_json = (y*1000000).round().astype(int).flatten().tolist()"
   ]
  },
  {
   "cell_type": "code",
   "execution_count": 10,
   "metadata": {},
   "outputs": [],
   "source": [
    "import json"
   ]
  },
  {
   "cell_type": "code",
   "execution_count": 11,
   "metadata": {},
   "outputs": [],
   "source": [
    "with open(\"conv2d/input.json\", \"w\") as f:\n",
    "    json.dump(in_json, f)"
   ]
  },
  {
   "cell_type": "code",
   "execution_count": 12,
   "metadata": {},
   "outputs": [],
   "source": [
    "with open(\"conv2d/output.json\", \"w\") as f:\n",
    "    json.dump(out_json, f)"
   ]
  },
  {
   "cell_type": "code",
   "execution_count": null,
   "metadata": {},
   "outputs": [],
   "source": []
  }
 ],
 "metadata": {
  "kernelspec": {
   "display_name": "keras2circom",
   "language": "python",
   "name": "python3"
  },
  "language_info": {
   "codemirror_mode": {
    "name": "ipython",
    "version": 3
   },
   "file_extension": ".py",
   "mimetype": "text/x-python",
   "name": "python",
   "nbconvert_exporter": "python",
   "pygments_lexer": "ipython3",
   "version": "3.10.6"
  },
  "orig_nbformat": 4
 },
 "nbformat": 4,
 "nbformat_minor": 2
}
